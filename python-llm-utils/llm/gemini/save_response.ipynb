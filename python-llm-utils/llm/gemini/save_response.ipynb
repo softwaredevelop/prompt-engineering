{
 "cells": [
  {
   "cell_type": "code",
   "execution_count": null,
   "id": "19c6768f",
   "metadata": {},
   "outputs": [],
   "source": [
    "from client import create_genai_client\n",
    "\n",
    "client = create_genai_client()"
   ]
  },
  {
   "cell_type": "code",
   "execution_count": null,
   "id": "850812d2",
   "metadata": {},
   "outputs": [],
   "source": [
    "import time\n",
    "from pathlib import Path\n",
    "\n",
    "from google.genai import types\n",
    "from IPython.display import Markdown\n",
    "from utils import read_text_from_file, write_gemini_text_to_markdown\n",
    "\n",
    "time.sleep(5)\n",
    "\n",
    "project_root = Path(\"../../../\").resolve()\n",
    "\n",
    "response_file = project_root / \"prompts\" / \"user\" / \"general-response.md\"\n",
    "\n",
    "config = types.GenerateContentConfig()\n",
    "\n",
    "user_parts = types.Part.from_text(text=\"Hello, what model are you?\")\n",
    "\n",
    "contents = user_parts\n",
    "\n",
    "response = client.models.generate_content(\n",
    "    config=config,\n",
    "    contents=contents,\n",
    "    model=\"models/gemini-2.0-flash\",\n",
    ")\n",
    "\n",
    "write_gemini_text_to_markdown(response=response, output_path=response_file)\n",
    "\n",
    "response_content = read_text_from_file(response_file)\n",
    "Markdown(response_content)"
   ]
  }
 ],
 "metadata": {
  "kernelspec": {
   "display_name": "prompt-engineering",
   "language": "python",
   "name": "python3"
  },
  "language_info": {
   "codemirror_mode": {
    "name": "ipython",
    "version": 3
   },
   "file_extension": ".py",
   "mimetype": "text/x-python",
   "name": "python",
   "nbconvert_exporter": "python",
   "pygments_lexer": "ipython3",
   "version": "3.13.5"
  }
 },
 "nbformat": 4,
 "nbformat_minor": 5
}
