{
 "cells": [
  {
   "cell_type": "code",
   "execution_count": null,
   "id": "d74c020c",
   "metadata": {},
   "outputs": [],
   "source": [
    "from client import create_genai_client\n",
    "\n",
    "client = create_genai_client()"
   ]
  },
  {
   "cell_type": "code",
   "execution_count": null,
   "id": "d7b70d03",
   "metadata": {},
   "outputs": [],
   "source": [
    "available_models = client.models.list()\n",
    "model_names = [model.name for model in available_models]"
   ]
  },
  {
   "cell_type": "code",
   "execution_count": null,
   "id": "c5b05790",
   "metadata": {},
   "outputs": [],
   "source": [
    "import ipywidgets as widgets\n",
    "from IPython.display import display\n",
    "\n",
    "model_selector = widgets.Dropdown(\n",
    "    options=model_names,\n",
    "    description=\"Model:\",\n",
    ")\n",
    "\n",
    "display(model_selector)\n",
    "\n",
    "\n",
    "def on_model_change(change):\n",
    "    global MODEL_ID\n",
    "    MODEL_ID = change.new\n",
    "    print(f\"Selected model: {MODEL_ID}\")\n",
    "\n",
    "\n",
    "model_selector.observe(on_model_change, names=\"value\")"
   ]
  },
  {
   "cell_type": "code",
   "execution_count": null,
   "id": "1b911979",
   "metadata": {},
   "outputs": [],
   "source": [
    "import time\n",
    "from pathlib import Path\n",
    "\n",
    "from google.genai import types\n",
    "from IPython.display import Markdown\n",
    "from utils import read_text_from_file, write_gemini_text_to_markdown\n",
    "\n",
    "time.sleep(5)\n",
    "\n",
    "project_root = Path(\"../../../\").resolve()\n",
    "\n",
    "system_prompt_file = project_root / \"prompts\" / \"system\" / \"meta-prompt.md\"\n",
    "try:\n",
    "    system_prompt = read_text_from_file(system_prompt_file)\n",
    "except FileNotFoundError:\n",
    "    print(\"Error: The specified file was not found.\")\n",
    "except IOError as e:\n",
    "    print(f\"An error occurred while reading the file: {e}\")\n",
    "\n",
    "system_parts = [\n",
    "    types.Part.from_text(text=system_prompt),\n",
    "]\n",
    "\n",
    "config = types.GenerateContentConfig(\n",
    "    candidate_count=1,\n",
    "    # frequency_penalty=0.2,\n",
    "    max_output_tokens=4096,\n",
    "    response_mime_type=\"text/plain\",\n",
    "    seed=12345,\n",
    "    system_instruction=system_parts,\n",
    "    temperature=0.3,\n",
    "    top_p=1,\n",
    ")\n",
    "\n",
    "user_prompt_file = project_root / \"prompts\" / \"user\" / \"prompt-generator.md\"\n",
    "try:\n",
    "    user_prompt = read_text_from_file(user_prompt_file)\n",
    "except FileNotFoundError:\n",
    "    print(\"Error: The specified file was not found.\")\n",
    "except IOError as e:\n",
    "    print(f\"An error occurred while reading the file: {e}\")\n",
    "\n",
    "user_parts = types.Part.from_text(text=user_prompt)\n",
    "\n",
    "contents = user_parts\n",
    "\n",
    "response = client.models.generate_content(\n",
    "    config=config,\n",
    "    contents=contents,\n",
    "    model=MODEL_ID,\n",
    ")\n",
    "\n",
    "response_file = project_root / \"prompts\" / \"user\" / \"general-response.md\"\n",
    "\n",
    "write_gemini_text_to_markdown(response=response, output_path=response_file)\n",
    "\n",
    "response_content = read_text_from_file(response_file)\n",
    "Markdown(response_content)"
   ]
  }
 ],
 "metadata": {
  "kernelspec": {
   "display_name": "prompt-engineering",
   "language": "python",
   "name": "python3"
  },
  "language_info": {
   "codemirror_mode": {
    "name": "ipython",
    "version": 3
   },
   "file_extension": ".py",
   "mimetype": "text/x-python",
   "name": "python",
   "nbconvert_exporter": "python",
   "pygments_lexer": "ipython3",
   "version": "3.13.5"
  }
 },
 "nbformat": 4,
 "nbformat_minor": 5
}
