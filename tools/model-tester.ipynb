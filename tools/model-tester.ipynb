{
 "cells": [
  {
   "cell_type": "code",
   "execution_count": null,
   "id": "24239240",
   "metadata": {},
   "outputs": [],
   "source": [
    "import os\n",
    "\n",
    "from dotenv import find_dotenv, load_dotenv\n",
    "from google import genai\n",
    "\n",
    "load_dotenv(find_dotenv())\n",
    "\n",
    "GOOGLE_API_KEY = os.getenv(\"GOOGLE_API_KEY\")\n",
    "\n",
    "if not GOOGLE_API_KEY:\n",
    "    raise ValueError(\"Missing GOOGLE_API_KEY\")\n",
    "\n",
    "client = genai.Client(api_key=GOOGLE_API_KEY)"
   ]
  },
  {
   "cell_type": "code",
   "execution_count": null,
   "id": "da22bf0c",
   "metadata": {},
   "outputs": [],
   "source": [
    "available_models = client.models.list()\n",
    "\n",
    "model_names = [model.name for model in available_models]\n",
    "print(model_names)\n",
    "\n",
    "for name in model_names:\n",
    "    print(name)"
   ]
  },
  {
   "cell_type": "code",
   "execution_count": null,
   "id": "0af8dbfe",
   "metadata": {},
   "outputs": [],
   "source": [
    "import ipywidgets as widgets\n",
    "from IPython.display import display\n",
    "\n",
    "model_selector = widgets.Dropdown(\n",
    "    options=model_names,\n",
    "    description=\"Model:\",\n",
    ")\n",
    "\n",
    "display(model_selector)\n",
    "\n",
    "\n",
    "def on_model_change(change):\n",
    "    global MODEL_ID\n",
    "    MODEL_ID = change.new\n",
    "    print(f\"Selected model: {MODEL_ID}\")\n",
    "\n",
    "\n",
    "model_selector.observe(on_model_change, names=\"value\")"
   ]
  },
  {
   "cell_type": "code",
   "execution_count": null,
   "id": "723ce034",
   "metadata": {},
   "outputs": [],
   "source": [
    "import time\n",
    "\n",
    "from IPython.display import Markdown\n",
    "\n",
    "time.sleep(5)\n",
    "\n",
    "response = client.models.generate_content(\n",
    "    model=MODEL_ID, contents=\"Hello, what model are you?\"\n",
    ")\n",
    "\n",
    "Markdown(response.text)\n"
   ]
  }
 ],
 "metadata": {
  "kernelspec": {
   "display_name": "prompt-engineering",
   "language": "python",
   "name": "python3"
  },
  "language_info": {
   "codemirror_mode": {
    "name": "ipython",
    "version": 3
   },
   "file_extension": ".py",
   "mimetype": "text/x-python",
   "name": "python",
   "nbconvert_exporter": "python",
   "pygments_lexer": "ipython3",
   "version": "3.13.5"
  }
 },
 "nbformat": 4,
 "nbformat_minor": 5
}
