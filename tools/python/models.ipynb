{
 "cells": [
  {
   "cell_type": "code",
   "execution_count": null,
   "id": "7cb8b85d",
   "metadata": {},
   "outputs": [],
   "source": [
    "import os\n",
    "\n",
    "from dotenv import find_dotenv, load_dotenv\n",
    "from google import genai\n",
    "\n",
    "load_dotenv(find_dotenv())\n",
    "\n",
    "GOOGLE_API_KEY = os.getenv(\"GOOGLE_API_KEY\")\n",
    "\n",
    "if not GOOGLE_API_KEY:\n",
    "    raise ValueError(\"Missing GOOGLE_API_KEY\")\n",
    "\n",
    "client = genai.Client(api_key=GOOGLE_API_KEY)"
   ]
  },
  {
   "cell_type": "code",
   "execution_count": null,
   "id": "6607cea7",
   "metadata": {},
   "outputs": [],
   "source": [
    "available_models = client.models.list()\n",
    "model_names = [model.name for model in available_models]"
   ]
  },
  {
   "cell_type": "code",
   "execution_count": null,
   "id": "95747122",
   "metadata": {},
   "outputs": [],
   "source": [
    "import ipywidgets as widgets\n",
    "from IPython.display import display\n",
    "\n",
    "model_selector = widgets.Dropdown(\n",
    "    options=model_names,\n",
    "    description=\"Model:\",\n",
    ")\n",
    "\n",
    "display(model_selector)\n",
    "\n",
    "\n",
    "def on_model_change(change):\n",
    "    global MODEL_ID\n",
    "    MODEL_ID = change.new\n",
    "    print(f\"Selected model: {MODEL_ID}\")\n",
    "\n",
    "\n",
    "model_selector.observe(on_model_change, names=\"value\")"
   ]
  },
  {
   "cell_type": "code",
   "execution_count": null,
   "id": "6da39789",
   "metadata": {},
   "outputs": [],
   "source": [
    "model_info = client.models.get(model=MODEL_ID)\n",
    "print(model_info)"
   ]
  },
  {
   "cell_type": "code",
   "execution_count": null,
   "id": "c760786e",
   "metadata": {},
   "outputs": [],
   "source": [
    "print(\"Context window:\", model_info.input_token_limit, \"tokens\")\n",
    "print(\"Max output window:\", model_info.output_token_limit, \"tokens\")"
   ]
  },
  {
   "cell_type": "code",
   "execution_count": null,
   "id": "a86b0eef",
   "metadata": {},
   "outputs": [],
   "source": [
    "available_models = client.models.list()\n",
    "model_names = [\n",
    "    model.name\n",
    "    for model in available_models\n",
    "    if \"generateContent\" in model.supported_actions\n",
    "]\n",
    "\n",
    "for name in model_names:\n",
    "    print(name)"
   ]
  }
 ],
 "metadata": {
  "kernelspec": {
   "display_name": "prompt-engineering",
   "language": "python",
   "name": "python3"
  },
  "language_info": {
   "codemirror_mode": {
    "name": "ipython",
    "version": 3
   },
   "file_extension": ".py",
   "mimetype": "text/x-python",
   "name": "python",
   "nbconvert_exporter": "python",
   "pygments_lexer": "ipython3",
   "version": "3.13.5"
  }
 },
 "nbformat": 4,
 "nbformat_minor": 5
}
