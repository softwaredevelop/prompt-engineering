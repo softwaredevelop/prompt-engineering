{
 "cells": [
  {
   "cell_type": "code",
   "execution_count": null,
   "id": "a57a8c98",
   "metadata": {},
   "outputs": [],
   "source": [
    "import os\n",
    "\n",
    "from dotenv import find_dotenv, load_dotenv\n",
    "from google import genai\n",
    "\n",
    "load_dotenv(find_dotenv())\n",
    "\n",
    "GOOGLE_API_KEY = os.getenv(\"GOOGLE_API_KEY\")\n",
    "\n",
    "if not GOOGLE_API_KEY:\n",
    "    raise ValueError(\"Missing GOOGLE_API_KEY\")\n",
    "\n",
    "client = genai.Client(api_key=GOOGLE_API_KEY)"
   ]
  },
  {
   "cell_type": "code",
   "execution_count": null,
   "id": "c6529d59",
   "metadata": {},
   "outputs": [],
   "source": [
    "available_models = client.models.list()\n",
    "model_names = [model.name for model in available_models]"
   ]
  },
  {
   "cell_type": "code",
   "execution_count": null,
   "id": "e47b7136",
   "metadata": {},
   "outputs": [],
   "source": [
    "import ipywidgets as widgets\n",
    "from IPython.display import display\n",
    "\n",
    "model_selector = widgets.Dropdown(\n",
    "    options=model_names,\n",
    "    description=\"Model:\",\n",
    ")\n",
    "\n",
    "display(model_selector)\n",
    "\n",
    "\n",
    "def on_model_change(change):\n",
    "    global MODEL_ID\n",
    "    MODEL_ID = change.new\n",
    "    print(f\"Selected model: {MODEL_ID}\")\n",
    "\n",
    "\n",
    "model_selector.observe(on_model_change, names=\"value\")"
   ]
  },
  {
   "cell_type": "code",
   "execution_count": null,
   "id": "981553b0",
   "metadata": {},
   "outputs": [],
   "source": [
    "import time\n",
    "\n",
    "from google.genai import types\n",
    "from IPython.display import Markdown\n",
    "\n",
    "time.sleep(5)\n",
    "\n",
    "prompt = \"Hello, what model are you?\"\n",
    "system_instruction = (\n",
    "    \"You are a helpful AI assistant. Answer questions clearly and honestly.\"\n",
    ")\n",
    "\n",
    "response = client.models.generate_content(\n",
    "    model=MODEL_ID,\n",
    "    contents=prompt,\n",
    "    config=types.GenerateContentConfig(\n",
    "        candidate_count=1,\n",
    "        frequency_penalty=0.0,\n",
    "        presence_penalty=0.0,\n",
    "        seed=5,\n",
    "        stop_sequences=[\"STOP!\"],\n",
    "        system_instruction=system_instruction,\n",
    "        temperature=0.4,\n",
    "        top_k=20,\n",
    "        top_p=0.95,\n",
    "    ),\n",
    ")\n",
    "\n",
    "Markdown(response.text)"
   ]
  }
 ],
 "metadata": {
  "kernelspec": {
   "display_name": "prompt-engineering",
   "language": "python",
   "name": "python3"
  },
  "language_info": {
   "codemirror_mode": {
    "name": "ipython",
    "version": 3
   },
   "file_extension": ".py",
   "mimetype": "text/x-python",
   "name": "python",
   "nbconvert_exporter": "python",
   "pygments_lexer": "ipython3",
   "version": "3.13.5"
  }
 },
 "nbformat": 4,
 "nbformat_minor": 5
}
